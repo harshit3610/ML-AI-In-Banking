{
 "cells": [
  {
   "cell_type": "markdown",
   "metadata": {},
   "source": [
    "# Kmeans Clustering\n",
    "\n",
    "This is a unsupervised learning technique\n",
    "\n",
    "The objective is to categorize/partition your data into various classes based on some continuous features\n",
    "\n",
    "It uses the concept of distance calculations to find point which are closely related to each other\n",
    "\n",
    "\n",
    "\n",
    "# Examples\n",
    "\n",
    "\n",
    "Grouping Bank customers based on their previous repayment schedule(into regular defaulters or non-defaulters)\n",
    "Grouping employees based on projects completed(high, regular and low performing)\n"
   ]
  },
  {
   "attachments": {
    "image.png": {
     "image/png": "[encoded data removed]"
    }
   },
   "cell_type": "markdown",
   "metadata": {},
   "source": [
    "In real-world applications of clustering, we do not have any ground truth category information (information provided as empirical evidence as opposed to inference) about those samples; otherwise, it would fall into the category of supervised learning. Thus, our goal is to group the samples based on their feature similarities, which can be achieved using the k-means algorithm that can be summarized by the following four steps:\n",
    "\n",
    "    1. Randomly pick k centroids from the sample points as initial cluster centers.\n",
    "    \n",
    "    2. Assign each sample to the nearest centroid μ^(j), j ∈ {1, …, k}.\n",
    "    \n",
    "    3. Move the centroids to the center of the samples that were assigned to it.\n",
    "    \n",
    "    4. Repeat steps 2 and 3 until the cluster assignments do not change or a user-defined tolerance or maximum number of iterations is reached.\n",
    "\n",
    "Now, the next question is how do we measure similarity between objects? We can define similarity as the opposite of distance, and a commonly used distance for clustering samples with continuous features is the squared Euclidean distance between two points x and y in m-dimensional space:\n",
    "\n",
    "![image.png](attachment:image.png)\n",
    "\n",
    "Note that in the preceding equation, the index j refers to the jth dimension (feature column) of the sample points x and y. We will use the superscripts i and j to refer to the sample index and cluster index, respectively."
   ]
  },
  {
   "cell_type": "code",
   "execution_count": 1,
   "metadata": {},
   "outputs": [],
   "source": [
    "# Grouping Stock performance based on Volume of share traded"
   ]
  },
  {
   "cell_type": "code",
   "execution_count": 2,
   "metadata": {},
   "outputs": [
    {
     "data": {
      "text/html": [
       "<div>\n",
       "<style scoped>\n",
       "    .dataframe tbody tr th:only-of-type {\n",
       "        vertical-align: middle;\n",
       "    }\n",
       "\n",
       "    .dataframe tbody tr th {\n",
       "        vertical-align: top;\n",
       "    }\n",
       "\n",
       "    .dataframe thead th {\n",
       "        text-align: right;\n",
       "    }\n",
       "</style>\n",
       "<table border=\"1\" class=\"dataframe\">\n",
       "  <thead>\n",
       "    <tr style=\"text-align: right;\">\n",
       "      <th></th>\n",
       "      <th>Date</th>\n",
       "      <th>Open</th>\n",
       "      <th>High</th>\n",
       "      <th>Low</th>\n",
       "      <th>Close</th>\n",
       "      <th>Adj Close</th>\n",
       "      <th>Volume</th>\n",
       "    </tr>\n",
       "  </thead>\n",
       "  <tbody>\n",
       "    <tr>\n",
       "      <th>477</th>\n",
       "      <td>2019-11-25</td>\n",
       "      <td>64.949997</td>\n",
       "      <td>65.50</td>\n",
       "      <td>62.299999</td>\n",
       "      <td>63.750000</td>\n",
       "      <td>63.750000</td>\n",
       "      <td>171923335.0</td>\n",
       "    </tr>\n",
       "    <tr>\n",
       "      <th>307</th>\n",
       "      <td>2019-03-11</td>\n",
       "      <td>233.000000</td>\n",
       "      <td>238.00</td>\n",
       "      <td>231.600006</td>\n",
       "      <td>236.300003</td>\n",
       "      <td>229.982971</td>\n",
       "      <td>21189817.0</td>\n",
       "    </tr>\n",
       "    <tr>\n",
       "      <th>119</th>\n",
       "      <td>2018-06-05</td>\n",
       "      <td>342.500000</td>\n",
       "      <td>342.75</td>\n",
       "      <td>333.649994</td>\n",
       "      <td>336.750000</td>\n",
       "      <td>327.747650</td>\n",
       "      <td>8492155.0</td>\n",
       "    </tr>\n",
       "    <tr>\n",
       "      <th>688</th>\n",
       "      <td>2020-09-28</td>\n",
       "      <td>13.500000</td>\n",
       "      <td>13.85</td>\n",
       "      <td>13.350000</td>\n",
       "      <td>13.550000</td>\n",
       "      <td>13.550000</td>\n",
       "      <td>73586832.0</td>\n",
       "    </tr>\n",
       "    <tr>\n",
       "      <th>154</th>\n",
       "      <td>2018-07-24</td>\n",
       "      <td>389.200012</td>\n",
       "      <td>390.00</td>\n",
       "      <td>382.700012</td>\n",
       "      <td>384.350006</td>\n",
       "      <td>374.075134</td>\n",
       "      <td>9785989.0</td>\n",
       "    </tr>\n",
       "  </tbody>\n",
       "</table>\n",
       "</div>"
      ],
      "text/plain": [
       "           Date        Open    High         Low       Close   Adj Close  \\\n",
       "477  2019-11-25   64.949997   65.50   62.299999   63.750000   63.750000   \n",
       "307  2019-03-11  233.000000  238.00  231.600006  236.300003  229.982971   \n",
       "119  2018-06-05  342.500000  342.75  333.649994  336.750000  327.747650   \n",
       "688  2020-09-28   13.500000   13.85   13.350000   13.550000   13.550000   \n",
       "154  2018-07-24  389.200012  390.00  382.700012  384.350006  374.075134   \n",
       "\n",
       "          Volume  \n",
       "477  171923335.0  \n",
       "307   21189817.0  \n",
       "119    8492155.0  \n",
       "688   73586832.0  \n",
       "154    9785989.0  "
      ]
     },
     "execution_count": 2,
     "metadata": {},
     "output_type": "execute_result"
    }
   ],
   "source": [
    "import pandas as pd\n",
    "\n",
    "import seaborn as sns\n",
    "\n",
    "\n",
    "df=pd.read_csv(\"./datasets/YESBANK.NS.csv\")\n",
    "df.sample(5)"
   ]
  },
  {
   "cell_type": "code",
   "execution_count": 3,
   "metadata": {},
   "outputs": [
    {
     "data": {
      "text/plain": [
       "Date         0\n",
       "Open         2\n",
       "High         2\n",
       "Low          2\n",
       "Close        2\n",
       "Adj Close    2\n",
       "Volume       2\n",
       "dtype: int64"
      ]
     },
     "execution_count": 3,
     "metadata": {},
     "output_type": "execute_result"
    }
   ],
   "source": [
    "df.isna().sum()"
   ]
  },
  {
   "cell_type": "code",
   "execution_count": 4,
   "metadata": {},
   "outputs": [],
   "source": [
    "df.dropna(inplace=True)"
   ]
  },
  {
   "cell_type": "code",
   "execution_count": 5,
   "metadata": {},
   "outputs": [],
   "source": [
    "df.reset_index(inplace=True)"
   ]
  },
  {
   "cell_type": "code",
   "execution_count": 6,
   "metadata": {},
   "outputs": [],
   "source": [
    "from sklearn.cluster import KMeans\n",
    "\n",
    "features = df[[\"Volume\",\"Close\"]].copy()"
   ]
  },
  {
   "cell_type": "code",
   "execution_count": 7,
   "metadata": {},
   "outputs": [],
   "source": [
    "#elbow method!!!!!--->for calculating number of clusters\n",
    "\n",
    "\n",
    "\n",
    "import matplotlib.pyplot as plt\n",
    "\n",
    "ans=[ ]\n",
    "for num in range(2,20):\n",
    "    \n",
    "    model=KMeans(n_clusters=num).fit(features) \n",
    "    ans.append( model.inertia_ )#moment inertia\n",
    "    \n",
    "\n"
   ]
  },
  {
   "cell_type": "code",
   "execution_count": 8,
   "metadata": {},
   "outputs": [
    {
     "data": {
      "text/plain": [
       "[4.301611194349337e+18,\n",
       " 2.2632155153375188e+18,\n",
       " 1.0590627194994735e+18,\n",
       " 7.021865101274547e+17,\n",
       " 5.243830994340073e+17,\n",
       " 3.8538178043602675e+17,\n",
       " 2.937862101408161e+17,\n",
       " 2.2699844238714736e+17,\n",
       " 1.7258992643185766e+17,\n",
       " 1.4159009218049094e+17,\n",
       " 1.1894490098683563e+17,\n",
       " 9.506802452609989e+16,\n",
       " 7.787793643012309e+16,\n",
       " 6.5995935210266824e+16,\n",
       " 5.776933635810758e+16,\n",
       " 5.127321346000121e+16,\n",
       " 4.356153754727237e+16,\n",
       " 3.896213008664593e+16]"
      ]
     },
     "execution_count": 8,
     "metadata": {},
     "output_type": "execute_result"
    }
   ],
   "source": [
    "ans  #array of distoration score"
   ]
  },
  {
   "cell_type": "code",
   "execution_count": 9,
   "metadata": {
    "scrolled": true
   },
   "outputs": [
    {
     "data": {
      "image/png": "[encoded data removed]",
      "text/plain": [
       "<Figure size 432x288 with 1 Axes>"
      ]
     },
     "metadata": {},
     "output_type": "display_data"
    }
   ],
   "source": [
    "sns.set_style(\"darkgrid\")\n",
    "sns.lineplot(x=range(2,20),\n",
    "             y=ans,\n",
    "             style=len([\"Inertia\"]),\n",
    "            markers=True)\n",
    "plt.xticks(list(range(2,20,2)))\n",
    "plt.show()"
   ]
  },
  {
   "cell_type": "markdown",
   "metadata": {},
   "source": [
    "# Kmeans Steps"
   ]
  },
  {
   "cell_type": "code",
   "execution_count": 10,
   "metadata": {},
   "outputs": [],
   "source": [
    "model=KMeans(n_clusters=3) #BASED ON THE ELBOW OUTPUT!"
   ]
  },
  {
   "cell_type": "code",
   "execution_count": 11,
   "metadata": {},
   "outputs": [],
   "source": [
    "ans=model.fit_predict(features) #here!!!!!! #this gives cluster number"
   ]
  },
  {
   "cell_type": "code",
   "execution_count": 12,
   "metadata": {},
   "outputs": [
    {
     "data": {
      "text/html": [
       "<div>\n",
       "<style scoped>\n",
       "    .dataframe tbody tr th:only-of-type {\n",
       "        vertical-align: middle;\n",
       "    }\n",
       "\n",
       "    .dataframe tbody tr th {\n",
       "        vertical-align: top;\n",
       "    }\n",
       "\n",
       "    .dataframe thead th {\n",
       "        text-align: right;\n",
       "    }\n",
       "</style>\n",
       "<table border=\"1\" class=\"dataframe\">\n",
       "  <thead>\n",
       "    <tr style=\"text-align: right;\">\n",
       "      <th></th>\n",
       "      <th>CLUSTER PREDICTED</th>\n",
       "    </tr>\n",
       "  </thead>\n",
       "  <tbody>\n",
       "    <tr>\n",
       "      <th>0</th>\n",
       "      <td>0</td>\n",
       "    </tr>\n",
       "    <tr>\n",
       "      <th>1</th>\n",
       "      <td>0</td>\n",
       "    </tr>\n",
       "    <tr>\n",
       "      <th>2</th>\n",
       "      <td>0</td>\n",
       "    </tr>\n",
       "    <tr>\n",
       "      <th>3</th>\n",
       "      <td>0</td>\n",
       "    </tr>\n",
       "    <tr>\n",
       "      <th>4</th>\n",
       "      <td>0</td>\n",
       "    </tr>\n",
       "    <tr>\n",
       "      <th>...</th>\n",
       "      <td>...</td>\n",
       "    </tr>\n",
       "    <tr>\n",
       "      <th>731</th>\n",
       "      <td>2</td>\n",
       "    </tr>\n",
       "    <tr>\n",
       "      <th>732</th>\n",
       "      <td>0</td>\n",
       "    </tr>\n",
       "    <tr>\n",
       "      <th>733</th>\n",
       "      <td>0</td>\n",
       "    </tr>\n",
       "    <tr>\n",
       "      <th>734</th>\n",
       "      <td>2</td>\n",
       "    </tr>\n",
       "    <tr>\n",
       "      <th>735</th>\n",
       "      <td>1</td>\n",
       "    </tr>\n",
       "  </tbody>\n",
       "</table>\n",
       "<p>736 rows × 1 columns</p>\n",
       "</div>"
      ],
      "text/plain": [
       "     CLUSTER PREDICTED\n",
       "0                    0\n",
       "1                    0\n",
       "2                    0\n",
       "3                    0\n",
       "4                    0\n",
       "..                 ...\n",
       "731                  2\n",
       "732                  0\n",
       "733                  0\n",
       "734                  2\n",
       "735                  1\n",
       "\n",
       "[736 rows x 1 columns]"
      ]
     },
     "execution_count": 12,
     "metadata": {},
     "output_type": "execute_result"
    }
   ],
   "source": [
    "predicted=pd.DataFrame(ans,columns=['CLUSTER PREDICTED'])\n",
    "predicted"
   ]
  },
  {
   "cell_type": "code",
   "execution_count": 13,
   "metadata": {},
   "outputs": [
    {
     "data": {
      "text/html": [
       "<div>\n",
       "<style scoped>\n",
       "    .dataframe tbody tr th:only-of-type {\n",
       "        vertical-align: middle;\n",
       "    }\n",
       "\n",
       "    .dataframe tbody tr th {\n",
       "        vertical-align: top;\n",
       "    }\n",
       "\n",
       "    .dataframe thead th {\n",
       "        text-align: right;\n",
       "    }\n",
       "</style>\n",
       "<table border=\"1\" class=\"dataframe\">\n",
       "  <thead>\n",
       "    <tr style=\"text-align: right;\">\n",
       "      <th></th>\n",
       "      <th>Volume</th>\n",
       "      <th>Close</th>\n",
       "      <th>CLUSTER PREDICTED</th>\n",
       "    </tr>\n",
       "  </thead>\n",
       "  <tbody>\n",
       "    <tr>\n",
       "      <th>0</th>\n",
       "      <td>4416465.0</td>\n",
       "      <td>311.600006</td>\n",
       "      <td>0</td>\n",
       "    </tr>\n",
       "    <tr>\n",
       "      <th>1</th>\n",
       "      <td>5457103.0</td>\n",
       "      <td>306.799988</td>\n",
       "      <td>0</td>\n",
       "    </tr>\n",
       "    <tr>\n",
       "      <th>2</th>\n",
       "      <td>6911856.0</td>\n",
       "      <td>301.899994</td>\n",
       "      <td>0</td>\n",
       "    </tr>\n",
       "    <tr>\n",
       "      <th>3</th>\n",
       "      <td>4904177.0</td>\n",
       "      <td>303.899994</td>\n",
       "      <td>0</td>\n",
       "    </tr>\n",
       "    <tr>\n",
       "      <th>4</th>\n",
       "      <td>20571225.0</td>\n",
       "      <td>315.899994</td>\n",
       "      <td>0</td>\n",
       "    </tr>\n",
       "    <tr>\n",
       "      <th>...</th>\n",
       "      <td>...</td>\n",
       "      <td>...</td>\n",
       "      <td>...</td>\n",
       "    </tr>\n",
       "    <tr>\n",
       "      <th>731</th>\n",
       "      <td>311349886.0</td>\n",
       "      <td>15.450000</td>\n",
       "      <td>2</td>\n",
       "    </tr>\n",
       "    <tr>\n",
       "      <th>732</th>\n",
       "      <td>152445535.0</td>\n",
       "      <td>15.450000</td>\n",
       "      <td>0</td>\n",
       "    </tr>\n",
       "    <tr>\n",
       "      <th>733</th>\n",
       "      <td>149691622.0</td>\n",
       "      <td>15.350000</td>\n",
       "      <td>0</td>\n",
       "    </tr>\n",
       "    <tr>\n",
       "      <th>734</th>\n",
       "      <td>193242183.0</td>\n",
       "      <td>15.750000</td>\n",
       "      <td>2</td>\n",
       "    </tr>\n",
       "    <tr>\n",
       "      <th>735</th>\n",
       "      <td>562741066.0</td>\n",
       "      <td>17.299999</td>\n",
       "      <td>1</td>\n",
       "    </tr>\n",
       "  </tbody>\n",
       "</table>\n",
       "<p>736 rows × 3 columns</p>\n",
       "</div>"
      ],
      "text/plain": [
       "          Volume       Close  CLUSTER PREDICTED\n",
       "0      4416465.0  311.600006                  0\n",
       "1      5457103.0  306.799988                  0\n",
       "2      6911856.0  301.899994                  0\n",
       "3      4904177.0  303.899994                  0\n",
       "4     20571225.0  315.899994                  0\n",
       "..           ...         ...                ...\n",
       "731  311349886.0   15.450000                  2\n",
       "732  152445535.0   15.450000                  0\n",
       "733  149691622.0   15.350000                  0\n",
       "734  193242183.0   15.750000                  2\n",
       "735  562741066.0   17.299999                  1\n",
       "\n",
       "[736 rows x 3 columns]"
      ]
     },
     "execution_count": 13,
     "metadata": {},
     "output_type": "execute_result"
    }
   ],
   "source": [
    "result=pd.concat([features,predicted],axis=1)\n",
    "result"
   ]
  },
  {
   "cell_type": "markdown",
   "metadata": {},
   "source": [
    "# Let's add the predicted cluster as label in the original dataframe"
   ]
  },
  {
   "cell_type": "code",
   "execution_count": 14,
   "metadata": {},
   "outputs": [
    {
     "data": {
      "text/html": [
       "<div>\n",
       "<style scoped>\n",
       "    .dataframe tbody tr th:only-of-type {\n",
       "        vertical-align: middle;\n",
       "    }\n",
       "\n",
       "    .dataframe tbody tr th {\n",
       "        vertical-align: top;\n",
       "    }\n",
       "\n",
       "    .dataframe thead th {\n",
       "        text-align: right;\n",
       "    }\n",
       "</style>\n",
       "<table border=\"1\" class=\"dataframe\">\n",
       "  <thead>\n",
       "    <tr style=\"text-align: right;\">\n",
       "      <th></th>\n",
       "      <th>Date</th>\n",
       "      <th>Open</th>\n",
       "      <th>High</th>\n",
       "      <th>Low</th>\n",
       "      <th>Close</th>\n",
       "      <th>Adj Close</th>\n",
       "      <th>Volume</th>\n",
       "      <th>CLUSTER PREDICTED</th>\n",
       "    </tr>\n",
       "  </thead>\n",
       "  <tbody>\n",
       "    <tr>\n",
       "      <th>0</th>\n",
       "      <td>2017-12-11</td>\n",
       "      <td>313.500000</td>\n",
       "      <td>315.799988</td>\n",
       "      <td>310.600006</td>\n",
       "      <td>311.600006</td>\n",
       "      <td>300.880615</td>\n",
       "      <td>4416465.0</td>\n",
       "      <td>0</td>\n",
       "    </tr>\n",
       "    <tr>\n",
       "      <th>1</th>\n",
       "      <td>2017-12-12</td>\n",
       "      <td>312.000000</td>\n",
       "      <td>312.000000</td>\n",
       "      <td>305.899994</td>\n",
       "      <td>306.799988</td>\n",
       "      <td>296.245758</td>\n",
       "      <td>5457103.0</td>\n",
       "      <td>0</td>\n",
       "    </tr>\n",
       "    <tr>\n",
       "      <th>2</th>\n",
       "      <td>2017-12-13</td>\n",
       "      <td>306.350006</td>\n",
       "      <td>307.350006</td>\n",
       "      <td>301.049988</td>\n",
       "      <td>301.899994</td>\n",
       "      <td>291.514282</td>\n",
       "      <td>6911856.0</td>\n",
       "      <td>0</td>\n",
       "    </tr>\n",
       "    <tr>\n",
       "      <th>3</th>\n",
       "      <td>2017-12-14</td>\n",
       "      <td>303.899994</td>\n",
       "      <td>304.649994</td>\n",
       "      <td>301.750000</td>\n",
       "      <td>303.899994</td>\n",
       "      <td>293.445526</td>\n",
       "      <td>4904177.0</td>\n",
       "      <td>0</td>\n",
       "    </tr>\n",
       "    <tr>\n",
       "      <th>4</th>\n",
       "      <td>2017-12-15</td>\n",
       "      <td>307.000000</td>\n",
       "      <td>317.450012</td>\n",
       "      <td>307.000000</td>\n",
       "      <td>315.899994</td>\n",
       "      <td>305.032715</td>\n",
       "      <td>20571225.0</td>\n",
       "      <td>0</td>\n",
       "    </tr>\n",
       "    <tr>\n",
       "      <th>...</th>\n",
       "      <td>...</td>\n",
       "      <td>...</td>\n",
       "      <td>...</td>\n",
       "      <td>...</td>\n",
       "      <td>...</td>\n",
       "      <td>...</td>\n",
       "      <td>...</td>\n",
       "      <td>...</td>\n",
       "    </tr>\n",
       "    <tr>\n",
       "      <th>731</th>\n",
       "      <td>2020-12-02</td>\n",
       "      <td>15.700000</td>\n",
       "      <td>15.900000</td>\n",
       "      <td>14.850000</td>\n",
       "      <td>15.450000</td>\n",
       "      <td>15.450000</td>\n",
       "      <td>311349886.0</td>\n",
       "      <td>2</td>\n",
       "    </tr>\n",
       "    <tr>\n",
       "      <th>732</th>\n",
       "      <td>2020-12-03</td>\n",
       "      <td>15.650000</td>\n",
       "      <td>15.800000</td>\n",
       "      <td>15.250000</td>\n",
       "      <td>15.450000</td>\n",
       "      <td>15.450000</td>\n",
       "      <td>152445535.0</td>\n",
       "      <td>0</td>\n",
       "    </tr>\n",
       "    <tr>\n",
       "      <th>733</th>\n",
       "      <td>2020-12-04</td>\n",
       "      <td>15.600000</td>\n",
       "      <td>15.600000</td>\n",
       "      <td>15.050000</td>\n",
       "      <td>15.350000</td>\n",
       "      <td>15.350000</td>\n",
       "      <td>149691622.0</td>\n",
       "      <td>0</td>\n",
       "    </tr>\n",
       "    <tr>\n",
       "      <th>734</th>\n",
       "      <td>2020-12-07</td>\n",
       "      <td>15.650000</td>\n",
       "      <td>15.850000</td>\n",
       "      <td>15.500000</td>\n",
       "      <td>15.750000</td>\n",
       "      <td>15.750000</td>\n",
       "      <td>193242183.0</td>\n",
       "      <td>2</td>\n",
       "    </tr>\n",
       "    <tr>\n",
       "      <th>735</th>\n",
       "      <td>2020-12-08</td>\n",
       "      <td>16.000000</td>\n",
       "      <td>17.299999</td>\n",
       "      <td>16.000000</td>\n",
       "      <td>17.299999</td>\n",
       "      <td>17.299999</td>\n",
       "      <td>562741066.0</td>\n",
       "      <td>1</td>\n",
       "    </tr>\n",
       "  </tbody>\n",
       "</table>\n",
       "<p>736 rows × 8 columns</p>\n",
       "</div>"
      ],
      "text/plain": [
       "           Date        Open        High         Low       Close   Adj Close  \\\n",
       "0    2017-12-11  313.500000  315.799988  310.600006  311.600006  300.880615   \n",
       "1    2017-12-12  312.000000  312.000000  305.899994  306.799988  296.245758   \n",
       "2    2017-12-13  306.350006  307.350006  301.049988  301.899994  291.514282   \n",
       "3    2017-12-14  303.899994  304.649994  301.750000  303.899994  293.445526   \n",
       "4    2017-12-15  307.000000  317.450012  307.000000  315.899994  305.032715   \n",
       "..          ...         ...         ...         ...         ...         ...   \n",
       "731  2020-12-02   15.700000   15.900000   14.850000   15.450000   15.450000   \n",
       "732  2020-12-03   15.650000   15.800000   15.250000   15.450000   15.450000   \n",
       "733  2020-12-04   15.600000   15.600000   15.050000   15.350000   15.350000   \n",
       "734  2020-12-07   15.650000   15.850000   15.500000   15.750000   15.750000   \n",
       "735  2020-12-08   16.000000   17.299999   16.000000   17.299999   17.299999   \n",
       "\n",
       "          Volume  CLUSTER PREDICTED  \n",
       "0      4416465.0                  0  \n",
       "1      5457103.0                  0  \n",
       "2      6911856.0                  0  \n",
       "3      4904177.0                  0  \n",
       "4     20571225.0                  0  \n",
       "..           ...                ...  \n",
       "731  311349886.0                  2  \n",
       "732  152445535.0                  0  \n",
       "733  149691622.0                  0  \n",
       "734  193242183.0                  2  \n",
       "735  562741066.0                  1  \n",
       "\n",
       "[736 rows x 8 columns]"
      ]
     },
     "execution_count": 14,
     "metadata": {},
     "output_type": "execute_result"
    }
   ],
   "source": [
    "final = pd.concat([df, predicted],axis=1).drop('index',axis=1)\n",
    "final"
   ]
  },
  {
   "cell_type": "code",
   "execution_count": 15,
   "metadata": {},
   "outputs": [],
   "source": [
    "centers=model.cluster_centers_"
   ]
  },
  {
   "cell_type": "code",
   "execution_count": 16,
   "metadata": {},
   "outputs": [
    {
     "data": {
      "image/png": "[encoded data removed]",
      "text/plain": [
       "<Figure size 432x288 with 1 Axes>"
      ]
     },
     "metadata": {},
     "output_type": "display_data"
    }
   ],
   "source": [
    "sns.scatterplot(x=\"Volume\",y=\"Close\",data=final,hue=\"CLUSTER PREDICTED\",palette=\"autumn_r\");\n",
    "\n",
    "plt.scatter(centers[:,0], centers[:, 1], c='black', s=100, alpha=0.5);"
   ]
  },
  {
   "cell_type": "markdown",
   "metadata": {},
   "source": [
    "# check distances"
   ]
  },
  {
   "cell_type": "code",
   "execution_count": 17,
   "metadata": {},
   "outputs": [],
   "source": [
    "model=KMeans(n_clusters=3).fit_transform(features) #fit_transform gives calculated distance values"
   ]
  },
  {
   "cell_type": "code",
   "execution_count": 18,
   "metadata": {},
   "outputs": [
    {
     "data": {
      "text/plain": [
       "array([[4.55302947e+07, 2.64927255e+08, 7.09053742e+08],\n",
       "       [4.44896567e+07, 2.63886617e+08, 7.08013104e+08],\n",
       "       [4.30349037e+07, 2.62431864e+08, 7.06558351e+08],\n",
       "       ...,\n",
       "       [9.97448623e+07, 1.19652098e+08, 5.63778585e+08],\n",
       "       [1.43295423e+08, 7.61015367e+07, 5.20228024e+08],\n",
       "       [5.12794306e+08, 2.93397346e+08, 1.50729141e+08]])"
      ]
     },
     "execution_count": 18,
     "metadata": {},
     "output_type": "execute_result"
    }
   ],
   "source": [
    "model"
   ]
  },
  {
   "cell_type": "code",
   "execution_count": 19,
   "metadata": {},
   "outputs": [
    {
     "data": {
      "text/html": [
       "<div>\n",
       "<style scoped>\n",
       "    .dataframe tbody tr th:only-of-type {\n",
       "        vertical-align: middle;\n",
       "    }\n",
       "\n",
       "    .dataframe tbody tr th {\n",
       "        vertical-align: top;\n",
       "    }\n",
       "\n",
       "    .dataframe thead th {\n",
       "        text-align: right;\n",
       "    }\n",
       "</style>\n",
       "<table border=\"1\" class=\"dataframe\">\n",
       "  <thead>\n",
       "    <tr style=\"text-align: right;\">\n",
       "      <th></th>\n",
       "      <th>0</th>\n",
       "      <th>1</th>\n",
       "      <th>2</th>\n",
       "    </tr>\n",
       "  </thead>\n",
       "  <tbody>\n",
       "    <tr>\n",
       "      <th>0</th>\n",
       "      <td>4.553029e+07</td>\n",
       "      <td>2.649273e+08</td>\n",
       "      <td>7.090537e+08</td>\n",
       "    </tr>\n",
       "    <tr>\n",
       "      <th>1</th>\n",
       "      <td>4.448966e+07</td>\n",
       "      <td>2.638866e+08</td>\n",
       "      <td>7.080131e+08</td>\n",
       "    </tr>\n",
       "    <tr>\n",
       "      <th>2</th>\n",
       "      <td>4.303490e+07</td>\n",
       "      <td>2.624319e+08</td>\n",
       "      <td>7.065584e+08</td>\n",
       "    </tr>\n",
       "    <tr>\n",
       "      <th>3</th>\n",
       "      <td>4.504258e+07</td>\n",
       "      <td>2.644395e+08</td>\n",
       "      <td>7.085660e+08</td>\n",
       "    </tr>\n",
       "    <tr>\n",
       "      <th>4</th>\n",
       "      <td>2.937553e+07</td>\n",
       "      <td>2.487725e+08</td>\n",
       "      <td>6.928990e+08</td>\n",
       "    </tr>\n",
       "    <tr>\n",
       "      <th>...</th>\n",
       "      <td>...</td>\n",
       "      <td>...</td>\n",
       "      <td>...</td>\n",
       "    </tr>\n",
       "    <tr>\n",
       "      <th>731</th>\n",
       "      <td>2.614031e+08</td>\n",
       "      <td>4.200617e+07</td>\n",
       "      <td>4.021203e+08</td>\n",
       "    </tr>\n",
       "    <tr>\n",
       "      <th>732</th>\n",
       "      <td>1.024988e+08</td>\n",
       "      <td>1.168982e+08</td>\n",
       "      <td>5.610247e+08</td>\n",
       "    </tr>\n",
       "    <tr>\n",
       "      <th>733</th>\n",
       "      <td>9.974486e+07</td>\n",
       "      <td>1.196521e+08</td>\n",
       "      <td>5.637786e+08</td>\n",
       "    </tr>\n",
       "    <tr>\n",
       "      <th>734</th>\n",
       "      <td>1.432954e+08</td>\n",
       "      <td>7.610154e+07</td>\n",
       "      <td>5.202280e+08</td>\n",
       "    </tr>\n",
       "    <tr>\n",
       "      <th>735</th>\n",
       "      <td>5.127943e+08</td>\n",
       "      <td>2.933973e+08</td>\n",
       "      <td>1.507291e+08</td>\n",
       "    </tr>\n",
       "  </tbody>\n",
       "</table>\n",
       "<p>736 rows × 3 columns</p>\n",
       "</div>"
      ],
      "text/plain": [
       "                0             1             2\n",
       "0    4.553029e+07  2.649273e+08  7.090537e+08\n",
       "1    4.448966e+07  2.638866e+08  7.080131e+08\n",
       "2    4.303490e+07  2.624319e+08  7.065584e+08\n",
       "3    4.504258e+07  2.644395e+08  7.085660e+08\n",
       "4    2.937553e+07  2.487725e+08  6.928990e+08\n",
       "..            ...           ...           ...\n",
       "731  2.614031e+08  4.200617e+07  4.021203e+08\n",
       "732  1.024988e+08  1.168982e+08  5.610247e+08\n",
       "733  9.974486e+07  1.196521e+08  5.637786e+08\n",
       "734  1.432954e+08  7.610154e+07  5.202280e+08\n",
       "735  5.127943e+08  2.933973e+08  1.507291e+08\n",
       "\n",
       "[736 rows x 3 columns]"
      ]
     },
     "execution_count": 19,
     "metadata": {},
     "output_type": "execute_result"
    }
   ],
   "source": [
    "pd.DataFrame(model)"
   ]
  },
  {
   "cell_type": "code",
   "execution_count": null,
   "metadata": {},
   "outputs": [],
   "source": []
  },
  {
   "cell_type": "code",
   "execution_count": null,
   "metadata": {},
   "outputs": [],
   "source": []
  },
  {
   "cell_type": "code",
   "execution_count": null,
   "metadata": {},
   "outputs": [],
   "source": []
  }
 ],
 "metadata": {
  "kernelspec": {
   "display_name": "Python 3",
   "language": "python",
   "name": "python3"
  },
  "language_info": {
   "codemirror_mode": {
    "name": "ipython",
    "version": 3
   },
   "file_extension": ".py",
   "mimetype": "text/x-python",
   "name": "python",
   "nbconvert_exporter": "python",
   "pygments_lexer": "ipython3",
   "version": "3.8.5"
  }
 },
 "nbformat": 4,
 "nbformat_minor": 4
}
