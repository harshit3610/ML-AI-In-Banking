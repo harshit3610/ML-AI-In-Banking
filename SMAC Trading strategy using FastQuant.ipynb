{
 "cells": [
  {
   "cell_type": "markdown",
   "metadata": {},
   "source": [
    "# We need to add some plugins to get started"
   ]
  },
  {
   "cell_type": "code",
   "execution_count": null,
   "metadata": {},
   "outputs": [],
   "source": [
    "!pip install fastquant\n",
    "!pip uninstall matplotlib  # or conda\n",
    "!pip install matplotlib==3.2.2\n"
   ]
  },
  {
   "cell_type": "markdown",
   "metadata": {},
   "source": [
    "# Backtest your trading strategy\n",
    "\n",
    "Backtest a simple moving average crossover (SMAC) strategy through the historical stock data of Jollibee Food Corp. (JFC) using the backtest function of fastquant.\n",
    "\n",
    "In an SMAC strategy, fast period (fast_period) refers to the period used for the fast moving average, while slow period (slow_period) refers to the period used for the slow moving average. When the fast moving average crosses over the slow moving average from below to go above, this is considered a “buy” signal, while if it crosses over from above to go below, this is considered a “sell” signal."
   ]
  },
  {
   "cell_type": "code",
   "execution_count": null,
   "metadata": {},
   "outputs": [],
   "source": [
    "import pandas as pd"
   ]
  },
  {
   "cell_type": "code",
   "execution_count": null,
   "metadata": {},
   "outputs": [],
   "source": [
    "from fastquant import get_stock_data\n",
    "jfc = get_stock_data(\"AAPL\", \"2018-01-01\", \"2019-01-01\")\n",
    "print(jfc.head())"
   ]
  },
  {
   "cell_type": "markdown",
   "metadata": {},
   "source": [
    "# plotting the data\n",
    "\n",
    "We assume daily closing price to be the fast moving average and 30 day rolling mean as slow moving average"
   ]
  },
  {
   "cell_type": "code",
   "execution_count": null,
   "metadata": {},
   "outputs": [],
   "source": [
    "moving_average30 = jfc.close.rolling(30).mean()\n",
    "\n",
    "data = pd.concat([jfc.close,moving_average30],axis=1).dropna()\n",
    "data.columns = [\"Closing Price\", \"Moving Average\"]\n",
    "data"
   ]
  },
  {
   "cell_type": "code",
   "execution_count": null,
   "metadata": {},
   "outputs": [],
   "source": [
    "data.plot(figsize=(10,6))"
   ]
  },
  {
   "cell_type": "markdown",
   "metadata": {},
   "source": [
    "# SMAC Strategy\n",
    "\n",
    "\n",
    "\n",
    "When the fast moving strategy line crosses over slower moving average FROM BELOW, it is a buy signal\n",
    "\n",
    "It is a sell signal for the reverse case"
   ]
  },
  {
   "cell_type": "code",
   "execution_count": null,
   "metadata": {},
   "outputs": [],
   "source": [
    "from fastquant import backtest, get_stock_data\n",
    "jfc = get_stock_data(\"JFC\", \"2018-01-01\", \"2019-01-01\")\n",
    "print(backtest('smac', jfc, fast_period=15, slow_period=30))"
   ]
  },
  {
   "cell_type": "code",
   "execution_count": null,
   "metadata": {},
   "outputs": [],
   "source": [
    "backtest(\"smac\", jfc, buy_prop=0.50, sell_prop=0.50, commission=0.01)"
   ]
  }
 ],
 "metadata": {
  "kernelspec": {
   "display_name": "Python 3",
   "language": "python",
   "name": "python3"
  },
  "language_info": {
   "codemirror_mode": {
    "name": "ipython",
    "version": 3
   },
   "file_extension": ".py",
   "mimetype": "text/x-python",
   "name": "python",
   "nbconvert_exporter": "python",
   "pygments_lexer": "ipython3",
   "version": "3.8.5"
  }
 },
 "nbformat": 4,
 "nbformat_minor": 4
}
